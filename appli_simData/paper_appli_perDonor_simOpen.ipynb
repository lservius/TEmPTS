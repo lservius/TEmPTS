{
 "cells": [
  {
   "cell_type": "markdown",
   "metadata": {},
   "source": [
    "# Simulation Study: Open System\n",
    " Simulate 50 batches of 5 donors who experience the same Q. Use optimisation of procedure to derive the point estimates for the parameters of the Q governing the system."
   ]
  },
  {
   "cell_type": "code",
   "execution_count": 1,
   "metadata": {},
   "outputs": [],
   "source": [
    "### LIBRARY ###\n",
    "import pandas as pd\n",
    "import numpy as np\n",
    "import matplotlib.pyplot as plt\n",
    "import random as rand\n",
    "\n",
    "from mm_temptations_functions import *\n",
    "from scipy.optimize import minimize, Bounds, LinearConstraint\n",
    "\n",
    "from multiprocess import Pool\n",
    "from functools import partial\n",
    "\n",
    "import pickle"
   ]
  },
  {
   "cell_type": "code",
   "execution_count": 2,
   "metadata": {},
   "outputs": [],
   "source": [
    "planting(456)"
   ]
  },
  {
   "cell_type": "code",
   "execution_count": 3,
   "metadata": {},
   "outputs": [],
   "source": [
    "# set system wide param\n",
    "k = 7 # no. of states\n",
    "timeCourse = 16 # total timepoints\n",
    "u = [1] * int(timeCourse) # time interval\n",
    "n_param = int(k/2 * (k-1)) # number of parameters\n",
    "\n",
    "sampRange_ub = 4\n",
    "xterm = 1e-15\n",
    "max_iter = 5e3\n",
    "numCores = 5\n",
    "mc_iter = 5"
   ]
  },
  {
   "cell_type": "code",
   "execution_count": 4,
   "metadata": {},
   "outputs": [],
   "source": [
    "startCount = 10**6 # no. in initial system\n",
    "N0 = createN0(k, startCount, )\n",
    "\n",
    "# load Q_true used for closed system\n",
    "filename = \"simResults/simulated_CN_Q_true.pkl\"\n",
    "with open(filename, 'rb') as f:\n",
    "   Q_true = pickle.load(f)\n",
    "\n",
    "# closed system w\\ noise\n",
    "simOpen_df = generateAggStates(N0, Q_true, (timeCourse - 1), u=u, recruit=True, timeCount=0, timeMarker='d', noise=True)\n",
    "simOpen = simOpen_df.to_numpy()"
   ]
  },
  {
   "cell_type": "code",
   "execution_count": 5,
   "metadata": {},
   "outputs": [],
   "source": [
    "filename = \"simDatasets/simulated_Open_dataframe.pkl\"\n",
    "with open(filename, 'wb') as f:\n",
    "    pickle.dump(simOpen_df, f)"
   ]
  },
  {
   "cell_type": "markdown",
   "metadata": {},
   "source": [
    "### Estimation"
   ]
  },
  {
   "cell_type": "code",
   "execution_count": 6,
   "metadata": {},
   "outputs": [],
   "source": [
    "# set variables\n",
    "pi_hat, T = eqTin(simOpen)\n",
    "\n",
    "Q_template = make_theta0(k, 'Q')\n",
    "\n",
    "reg_bounds = def_bounds(n_param, k, account_ingress=False)\n",
    "reg_con = def_constraints(n_param, k)"
   ]
  },
  {
   "cell_type": "code",
   "execution_count": 7,
   "metadata": {
    "scrolled": true
   },
   "outputs": [
    {
     "name": "stderr",
     "output_type": "stream",
     "text": [
      "Optimisation progress:  [                                                ]   0%\n"
     ]
    },
    {
     "name": "stdout",
     "output_type": "stream",
     "text": [
      "`xtol` termination condition is satisfied.\n",
      "Number of iterations: 462, function evaluations: 10472, CG iterations: 3367, optimality: 1.98e-10, constraint violation: 0.00e+00, execution time: 4.9e+01 s.\n"
     ]
    },
    {
     "name": "stderr",
     "output_type": "stream",
     "text": [
      "Optimisation progress:  [=========                                       ]  20%\n"
     ]
    },
    {
     "name": "stdout",
     "output_type": "stream",
     "text": [
      "`xtol` termination condition is satisfied.\n",
      "Number of iterations: 501, function evaluations: 11330, CG iterations: 4027, optimality: 5.66e-11, constraint violation: 0.00e+00, execution time: 5.7e+01 s.\n"
     ]
    },
    {
     "name": "stderr",
     "output_type": "stream",
     "text": [
      "Optimisation progress:  [===================                             ]  40%\n"
     ]
    },
    {
     "name": "stdout",
     "output_type": "stream",
     "text": [
      "`xtol` termination condition is satisfied.\n",
      "Number of iterations: 662, function evaluations: 15334, CG iterations: 5247, optimality: 2.43e-10, constraint violation: 0.00e+00, execution time: 7e+01 s.\n"
     ]
    },
    {
     "name": "stderr",
     "output_type": "stream",
     "text": [
      "Optimisation progress:  [============================                    ]  60%\n"
     ]
    },
    {
     "name": "stdout",
     "output_type": "stream",
     "text": [
      "The maximum number of function evaluations is exceeded.\n",
      "Number of iterations: 5000, function evaluations: 117568, CG iterations: 79967, optimality: 3.55e-08, constraint violation: 0.00e+00, execution time: 3.8e+02 s.\n"
     ]
    },
    {
     "name": "stderr",
     "output_type": "stream",
     "text": [
      "Optimisation progress:  [======================================          ]  80%\n"
     ]
    },
    {
     "name": "stdout",
     "output_type": "stream",
     "text": [
      "The maximum number of function evaluations is exceeded.\n",
      "Number of iterations: 5000, function evaluations: 121814, CG iterations: 64226, optimality: 3.38e-09, constraint violation: 0.00e+00, execution time: 3.9e+02 s.\n"
     ]
    },
    {
     "name": "stderr",
     "output_type": "stream",
     "text": [
      "Optimisation progress:  [================================================] 100%\n",
      "Optimisation progress:  [================================================] 100%\n"
     ]
    }
   ],
   "source": [
    "# estimate\n",
    "optimiserArgs = {'costFunc': calc_cost, 'args': (pi_hat, T, k, u, Q_template), 'bounds': reg_bounds, 'constraints': reg_con, 'sampRange_ub': sampRange_ub}\n",
    "options = {'hessian': None, 'xterm': xterm, 'max_iter': max_iter}\n",
    "\n",
    "openNoise_theta, openNoise_optError = parallel_mc_optimiser(mc_iter, numCores, n_param, optimiserArgs = optimiserArgs, options = options, progress_bar=True)"
   ]
  },
  {
   "cell_type": "code",
   "execution_count": 7,
   "metadata": {},
   "outputs": [
    {
     "ename": "NameError",
     "evalue": "name 'openNoise_theta' is not defined",
     "output_type": "error",
     "traceback": [
      "\u001b[0;31m---------------------------------------------------------------------------\u001b[0m",
      "\u001b[0;31mNameError\u001b[0m                                 Traceback (most recent call last)",
      "Cell \u001b[0;32mIn[7], line 1\u001b[0m\n\u001b[0;32m----> 1\u001b[0m \u001b[43mopenNoise_theta\u001b[49m \u001b[38;5;241m-\u001b[39m Q_true[Q_true[:,:\u001b[38;5;241m-\u001b[39m\u001b[38;5;241m1\u001b[39m]\u001b[38;5;241m.\u001b[39mnonzero()]\n",
      "\u001b[0;31mNameError\u001b[0m: name 'openNoise_theta' is not defined"
     ]
    }
   ],
   "source": [
    "openNoise_theta - Q_true[Q_true[:,:-1].nonzero()]"
   ]
  },
  {
   "cell_type": "code",
   "execution_count": 18,
   "metadata": {},
   "outputs": [
    {
     "data": {
      "image/png": "[encoded data removed]",
      "text/plain": [
       "<Figure size 640x480 with 1 Axes>"
      ]
     },
     "metadata": {},
     "output_type": "display_data"
    },
    {
     "data": {
      "image/png": "[encoded data removed]",
      "text/plain": [
       "<Figure size 640x480 with 1 Axes>"
      ]
     },
     "metadata": {},
     "output_type": "display_data"
    },
    {
     "name": "stdout",
     "output_type": "stream",
     "text": [
      "Average abs. residual:  0.006086885552866841\n"
     ]
    }
   ],
   "source": [
    "# residuals\n",
    "new = openNoise_theta\n",
    "S1_Q = theta_to_Q(new, k,Q_template)\n",
    "\n",
    "state_list = ['State ' + str(i) for i in range(1,k+1)]\n",
    "\n",
    "epsi = np.zeros((T-1,k))\n",
    "pred = np.zeros((k,T))\n",
    "\n",
    "for i in range(1,T):\n",
    "    S1_P = transMat(S1_Q, u[i-1])\n",
    "    pred[:,(i-1)] = np.matmul(S1_P.transpose(),pi_hat[:,(i-1)]) \n",
    "    epsi[(i-1),:] = pred[:,(i-1)] - pi_hat[:,i]\n",
    "    plt.scatter(pred[:,(i-1)], epsi[(i-1),:])\n",
    "\n",
    "plt.axhline(y=0, linestyle = '--', color = 'grey')\n",
    "plt.ylim(-1e-1,1e-1)\n",
    "plt.show() \n",
    "\n",
    "\n",
    "\n",
    "plt.boxplot(epsi,\n",
    "            notch=True,\n",
    "            medianprops=dict(color=\"mediumpurple\", linewidth=2))\n",
    "plt.xlabel(\"State\")\n",
    "plt.ylabel(\"Residuals\")\n",
    "plt.ylim(-1e-1,1e-1)\n",
    "plt.axhline(y=0, linestyle = '--', color = 'grey')\n",
    "plt.show()\n",
    "        \n",
    "print(\"Average abs. residual: \", np.mean(abs(epsi)))"
   ]
  },
  {
   "cell_type": "markdown",
   "metadata": {},
   "source": [
    "Make loop with 50 iterations for creating multiple donors."
   ]
  },
  {
   "cell_type": "code",
   "execution_count": 8,
   "metadata": {},
   "outputs": [],
   "source": [
    "\n",
    "def create_multiDonor_simData(i, donorGroupSize = 5, Q = Q_true, timeCourse = 16):\n",
    "    planting(i)\n",
    "    \n",
    "    startCount = 10**6\n",
    "    u = [1] * int(timeCourse) # time interval\n",
    "    \n",
    "    pi_hat_donors = {}\n",
    "    T_donors = {}\n",
    "    u_donors = {}\n",
    "\n",
    "    donor_list = ['donor_' + str(i) for i in range(1, donorGroupSize+1)]\n",
    "\n",
    "    for d in donor_list:\n",
    "        N0 = createN0(k, startCount)\n",
    "        donor = generateAggStates(N0, Q_true, (timeCourse - 1), u=u, recruit=True, timeCount=0, timeMarker='d', noise=True)\n",
    "        donor = donor.to_numpy()\n",
    "        pi_hat, T = eqTin(donor)\n",
    "        \n",
    "        pi_hat_donors[d] = pi_hat\n",
    "        T_donors[d] = T\n",
    "        u_donors[d] = u\n",
    "\n",
    "    return pi_hat_donors, T_donors, u_donors\n",
    "\n",
    "def sim_loop_perDonor_estimate(donorGroupSize = 5, replicates = 50, Q = Q_true, timeCourse = 16):\n",
    "\n",
    "    k = Q_true.shape[0]\n",
    "    Q_template = make_theta0(k, 'Q')\n",
    "    n_param = len(Q_template[:,:-1].nonzero()[0])\n",
    "    \n",
    "    reg_bounds = def_bounds(n_param, k, account_ingress=False)\n",
    "    reg_con = def_constraints(n_param, k)\n",
    "    \n",
    "    # initialise estimate dictionary to save to.\n",
    "    estimated_theta = np.empty((replicates,n_param))\n",
    "    estimated_cost = np.empty(replicates)\n",
    "\n",
    "    # def. filenames for saving out data during run\n",
    "    file_data = \"simDatasets/simulated_Open_propDicts_groupSize5.pkl\"\n",
    "    file_result = \"simResults/simulated_Open_estimates_50reps.pkl\"\n",
    "     \n",
    "    optimiserArgs = {'costFunc': calc_cost_donors, 'bounds': reg_bounds, 'constraints': reg_con, 'sampRange_ub': 4}\n",
    "    options = {'hessian': None, 'xterm': 1e-15, 'max_iter': 1e4}\n",
    "\n",
    "    # track progress\n",
    "    i=0\n",
    "    bar = progressbar.ProgressBar(maxval=replicates, \\\n",
    "    widgets=['Simulation progress:',' ',progressbar.Bar('=', '[', ']'), ' ', progressbar.Percentage()])\n",
    "    bar.start()\n",
    "\n",
    "    startIteration = 0\n",
    "    for rep in range(startIteration,replicates):\n",
    "\n",
    "        # load file if not starting from first replicate.\n",
    "        if rep == startIteration:\n",
    "            with open(file_result, 'rb') as f:\n",
    "                [estimated_theta, estimated_cost] = pickle.load(f)\n",
    "                        \n",
    "        pi_hat_donors, T_donors, u_donors = create_multiDonor_simData(rep, donorGroupSize, Q, timeCourse)\n",
    "        optimiserArgs['args'] = (pi_hat_donors, T_donors, k, u_donors, Q_template)\n",
    "        \n",
    "        # save first dataset\n",
    "        if rep == 0:\n",
    "            with open(file_data, 'wb') as f:\n",
    "                pickle.dump([pi_hat_donors, T_donors, u_donors], f)\n",
    "                \n",
    "        # estimate\n",
    "        theta_est, optError = parallel_mc_optimiser(5, 5, n_param, optimiserArgs=optimiserArgs, options=options, progress_bar=False)\n",
    "\n",
    "        # save out\n",
    "        estimated_theta[rep,:] = theta_est\n",
    "        estimated_cost[rep] = optError\n",
    "        \n",
    "        with open(file_result, 'wb') as f:\n",
    "                pickle.dump([estimated_theta, estimated_cost], f)\n",
    "\n",
    "        i+=1\n",
    "        bar.update(i)\n",
    "    bar.finish()"
   ]
  },
  {
   "cell_type": "code",
   "execution_count": 9,
   "metadata": {},
   "outputs": [],
   "source": [
    "# initialise estimate dictionary to save to.\n",
    "estimated_theta = np.empty((50,n_param))\n",
    "estimated_cost = np.empty(50)\n",
    "\n",
    "with open(\"simResults/simulated_Open_estimates_50reps.pkl\", 'wb') as f:\n",
    "                pickle.dump([estimated_theta, estimated_cost], f)"
   ]
  },
  {
   "cell_type": "code",
   "execution_count": 10,
   "metadata": {},
   "outputs": [
    {
     "name": "stdout",
     "output_type": "stream",
     "text": [
      "`xtol` termination condition is satisfied.\n",
      "Number of iterations: 8386, function evaluations: 185284, CG iterations: 15703, optimality: 2.61e-11, constraint violation: 0.00e+00, execution time: 4.6e+03 s.\n",
      "The maximum number of function evaluations is exceeded.\n",
      "Number of iterations: 10000, function evaluations: 221540, CG iterations: 77148, optimality: 7.90e-02, constraint violation: 0.00e+00, execution time: 5.1e+03 s.\n",
      "The maximum number of function evaluations is exceeded.\n",
      "Number of iterations: 10000, function evaluations: 238150, CG iterations: 149479, optimality: 8.52e-09, constraint violation: 0.00e+00, execution time: 5.4e+03 s.\n"
     ]
    },
    {
     "name": "stderr",
     "output_type": "stream",
     "text": [
      "Simulation progress: [=============================================      ]  90%\n"
     ]
    },
    {
     "name": "stdout",
     "output_type": "stream",
     "text": [
      "`xtol` termination condition is satisfied.\n",
      "Number of iterations: 941, function evaluations: 22220, CG iterations: 9713, optimality: 2.42e-08, constraint violation: 0.00e+00, execution time: 7.6e+02 s.\n",
      "`xtol` termination condition is satisfied.\n",
      "Number of iterations: 938, function evaluations: 23232, CG iterations: 6860, optimality: 7.55e-07, constraint violation: 0.00e+00, execution time: 7.8e+02 s.\n",
      "`xtol` termination condition is satisfied.\n",
      "Number of iterations: 997, function evaluations: 26114, CG iterations: 9913, optimality: 2.86e-09, constraint violation: 0.00e+00, execution time: 8.4e+02 s.\n",
      "`xtol` termination condition is satisfied.\n",
      "Number of iterations: 1450, function evaluations: 35552, CG iterations: 9468, optimality: 1.53e-07, constraint violation: 0.00e+00, execution time: 9.5e+02 s.\n",
      "`xtol` termination condition is satisfied.\n",
      "Number of iterations: 2726, function evaluations: 61556, CG iterations: 6689, optimality: 2.68e-11, constraint violation: 0.00e+00, execution time: 1.1e+03 s.\n"
     ]
    },
    {
     "name": "stderr",
     "output_type": "stream",
     "text": [
      "Simulation progress: [==============================================     ]  92%\n"
     ]
    },
    {
     "name": "stdout",
     "output_type": "stream",
     "text": [
      "`xtol` termination condition is satisfied.\n",
      "Number of iterations: 710, function evaluations: 15730, CG iterations: 6753, optimality: 2.24e-10, constraint violation: 0.00e+00, execution time: 2.8e+02 s.\n",
      "`xtol` termination condition is satisfied.\n",
      "Number of iterations: 3248, function evaluations: 75526, CG iterations: 51945, optimality: 9.48e-09, constraint violation: 0.00e+00, execution time: 2.4e+03 s.\n",
      "`xtol` termination condition is satisfied.\n",
      "Number of iterations: 3717, function evaluations: 85822, CG iterations: 48189, optimality: 1.72e-08, constraint violation: 0.00e+00, execution time: 2.4e+03 s.\n",
      "`xtol` termination condition is satisfied.\n",
      "Number of iterations: 3966, function evaluations: 88880, CG iterations: 73498, optimality: 5.89e-09, constraint violation: 0.00e+00, execution time: 2.6e+03 s.\n",
      "`xtol` termination condition is satisfied.\n",
      "Number of iterations: 6027, function evaluations: 139722, CG iterations: 34185, optimality: 1.83e-10, constraint violation: 0.00e+00, execution time: 2.8e+03 s.\n"
     ]
    },
    {
     "name": "stderr",
     "output_type": "stream",
     "text": [
      "Simulation progress: [===============================================    ]  94%\n"
     ]
    },
    {
     "name": "stdout",
     "output_type": "stream",
     "text": [
      "`xtol` termination condition is satisfied.\n",
      "Number of iterations: 850, function evaluations: 19140, CG iterations: 9656, optimality: 4.59e-11, constraint violation: 0.00e+00, execution time: 4e+02 s.\n",
      "`xtol` termination condition is satisfied.\n",
      "Number of iterations: 1324, function evaluations: 29788, CG iterations: 7878, optimality: 3.14e-10, constraint violation: 0.00e+00, execution time: 6.7e+02 s.\n",
      "`xtol` termination condition is satisfied.\n",
      "Number of iterations: 1248, function evaluations: 29810, CG iterations: 14976, optimality: 1.12e-10, constraint violation: 0.00e+00, execution time: 7.3e+02 s.\n",
      "`xtol` termination condition is satisfied.\n",
      "Number of iterations: 1499, function evaluations: 35288, CG iterations: 19561, optimality: 1.33e-11, constraint violation: 0.00e+00, execution time: 7.9e+02 s.\n",
      "`xtol` termination condition is satisfied.\n",
      "Number of iterations: 2661, function evaluations: 63602, CG iterations: 34675, optimality: 3.65e-09, constraint violation: 0.00e+00, execution time: 1.2e+03 s.\n"
     ]
    },
    {
     "name": "stderr",
     "output_type": "stream",
     "text": [
      "Simulation progress: [================================================   ]  96%\n"
     ]
    },
    {
     "name": "stdout",
     "output_type": "stream",
     "text": [
      "`xtol` termination condition is satisfied.\n",
      "Number of iterations: 7610, function evaluations: 168696, CG iterations: 102275, optimality: 6.36e-10, constraint violation: 0.00e+00, execution time: 3.1e+03 s.\n",
      "`xtol` termination condition is satisfied.\n",
      "Number of iterations: 8270, function evaluations: 183062, CG iterations: 106021, optimality: 7.63e-11, constraint violation: 0.00e+00, execution time: 3.2e+03 s.\n",
      "`xtol` termination condition is satisfied.\n",
      "Number of iterations: 7814, function evaluations: 173954, CG iterations: 102093, optimality: 9.89e-11, constraint violation: 0.00e+00, execution time: 3.3e+03 s.\n",
      "`xtol` termination condition is satisfied.\n",
      "Number of iterations: 9828, function evaluations: 217866, CG iterations: 130205, optimality: 7.18e-11, constraint violation: 0.00e+00, execution time: 3.4e+03 s.\n",
      "`xtol` termination condition is satisfied.\n",
      "Number of iterations: 5303, function evaluations: 119020, CG iterations: 100673, optimality: 4.69e-09, constraint violation: 0.00e+00, execution time: 3.6e+03 s.\n"
     ]
    },
    {
     "name": "stderr",
     "output_type": "stream",
     "text": [
      "Simulation progress: [=================================================  ]  98%\n"
     ]
    },
    {
     "name": "stdout",
     "output_type": "stream",
     "text": [
      "`xtol` termination condition is satisfied.\n",
      "Number of iterations: 1467, function evaluations: 34628, CG iterations: 16363, optimality: 7.17e-11, constraint violation: 0.00e+00, execution time: 7.7e+02 s.\n",
      "`xtol` termination condition is satisfied.\n",
      "Number of iterations: 2541, function evaluations: 61600, CG iterations: 26411, optimality: 4.03e-11, constraint violation: 0.00e+00, execution time: 1.3e+03 s.\n",
      "`xtol` termination condition is satisfied.\n",
      "Number of iterations: 1796, function evaluations: 44440, CG iterations: 19677, optimality: 1.22e-08, constraint violation: 0.00e+00, execution time: 1.3e+03 s.\n",
      "The maximum number of function evaluations is exceeded.\n",
      "Number of iterations: 10000, function evaluations: 220286, CG iterations: 14138, optimality: 7.48e-02, constraint violation: 0.00e+00, execution time: 3.4e+03 s.\n",
      "The maximum number of function evaluations is exceeded.\n",
      "Number of iterations: 10000, function evaluations: 220154, CG iterations: 21966, optimality: 3.10e-02, constraint violation: 0.00e+00, execution time: 3.6e+03 s.\n"
     ]
    },
    {
     "name": "stderr",
     "output_type": "stream",
     "text": [
      "Simulation progress: [===================================================] 100%\n",
      "Simulation progress: [===================================================] 100%\n"
     ]
    }
   ],
   "source": [
    "sim_loop_perDonor_estimate()"
   ]
  },
  {
   "cell_type": "code",
   "execution_count": 12,
   "metadata": {},
   "outputs": [],
   "source": [
    "filename = \"simResults/simulated_Open_estimates_50reps.pkl\"\n",
    "\n",
    "with open(filename, 'rb') as f:\n",
    "                [estimated_theta, estimated_cost] = pickle.load(f)"
   ]
  },
  {
   "cell_type": "code",
   "execution_count": 16,
   "metadata": {},
   "outputs": [
    {
     "data": {
      "text/plain": [
       "array([0.03419737, 0.0312703 , 0.01075557, 0.01202985, 0.00475755,\n",
       "       0.01382287, 0.10550322, 0.12182303, 0.01215058, 0.00919247,\n",
       "       0.01008698, 0.45337805, 0.40913593, 0.02037954, 0.0608167 ,\n",
       "       0.13268081, 0.13538748, 0.02687472, 0.14700623, 0.0598733 ,\n",
       "       0.0106873 ])"
      ]
     },
     "execution_count": 16,
     "metadata": {},
     "output_type": "execute_result"
    }
   ],
   "source": [
    "estimated_theta.std(axis=0)"
   ]
  }
 ],
 "metadata": {
  "kernelspec": {
   "display_name": "base",
   "language": "python",
   "name": "python3"
  },
  "language_info": {
   "codemirror_mode": {
    "name": "ipython",
    "version": 3
   },
   "file_extension": ".py",
   "mimetype": "text/x-python",
   "name": "python",
   "nbconvert_exporter": "python",
   "pygments_lexer": "ipython3",
   "version": "3.9.17"
  }
 },
 "nbformat": 4,
 "nbformat_minor": 4
}
