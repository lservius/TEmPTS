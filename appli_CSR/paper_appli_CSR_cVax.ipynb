{
 "cells": [
  {
   "cell_type": "markdown",
   "metadata": {},
   "source": [
    "## Applying to cVax Dataset"
   ]
  },
  {
   "cell_type": "code",
   "execution_count": 1,
   "metadata": {},
   "outputs": [],
   "source": [
    "### LIBRARY ###\n",
    "import pandas as pd\n",
    "import numpy as np\n",
    "import matplotlib.pyplot as plt\n",
    "import random as rand\n",
    "\n",
    "from mm_temptations_functions import *\n",
    "from scipy.optimize import minimize, Bounds, LinearConstraint\n",
    "\n",
    "from multiprocess import Pool\n",
    "from functools import partial\n",
    "import statsmodels.api as sm\n",
    "\n",
    "import pickle"
   ]
  },
  {
   "cell_type": "code",
   "execution_count": 2,
   "metadata": {},
   "outputs": [],
   "source": [
    "planting(456)"
   ]
  },
  {
   "cell_type": "markdown",
   "metadata": {},
   "source": [
    "#### *Load Data*"
   ]
  },
  {
   "cell_type": "code",
   "execution_count": 3,
   "metadata": {},
   "outputs": [],
   "source": [
    "filename = \"csrDatasets/cVaxData_formatted_allTime_allDonor.pkl\"\n",
    "with open(filename, 'rb') as f:\n",
    "    (pi_hat_donors, T_donors, k, u_donors, Q_template) = pickle.load(f)\n",
    "    \n",
    "isotype_list = ['IgM', 'IgG3', 'IgG1', 'IgA1', 'IgG2', 'IgG4', 'IgA2']"
   ]
  },
  {
   "cell_type": "code",
   "execution_count": 4,
   "metadata": {
    "metadata": {}
   },
   "outputs": [],
   "source": [
    "# set system wide param\n",
    "k = 7\n",
    "xterm = 1e-15\n",
    "gterm = 1e-15\n",
    "max_iter = 1e4\n",
    "numCores = 5\n",
    "theta_initial_ub = 4\n",
    "mc_iter = 25\n",
    "\n",
    "n_param = int(k/2 * (k-1))\n",
    "\n",
    "reg_bounds = def_bounds(n_param, k, account_ingress=False)\n",
    "reg_con = def_constraints(n_param, k)\n",
    "\n",
    "Q_template = make_theta0(k,'Q')\n",
    "\n",
    "optimiserArgs = {'costFunc': calc_cost_donors, 'args': (pi_hat_donors, T_donors, k, u_donors, Q_template), 'bounds': reg_bounds, 'constraints': reg_con, 'sampRange_ub': theta_initial_ub}\n",
    "options = {'hessian': None, 'xterm': xterm, 'gterm': gterm, 'max_iter': max_iter}"
   ]
  },
  {
   "cell_type": "code",
   "execution_count": 5,
   "metadata": {},
   "outputs": [],
   "source": [
    "#theta_allP, optError_allP = parallel_mc_optimiser(mc_iter, numCores, n_param, make_theta0, optimiserArgs=optimiserArgs, options=options, progress_bar=True)"
   ]
  },
  {
   "cell_type": "code",
   "execution_count": 6,
   "metadata": {},
   "outputs": [],
   "source": [
    "#filename = \"csrResults/cVax_allTime_allDonor.pkl\"\n",
    "#with open(filename, 'wb') as f:\n",
    "#    pickle.dump([theta_allP,optError_allP], f)"
   ]
  },
  {
   "cell_type": "code",
   "execution_count": 7,
   "metadata": {},
   "outputs": [],
   "source": [
    "filename = \"csrResults/cVax_allTime_allDonor.pkl\"\n",
    "with open(filename, 'rb') as f:\n",
    "   [theta_allP, optError_allP] = pickle.load(f)"
   ]
  },
  {
   "cell_type": "code",
   "execution_count": 8,
   "metadata": {},
   "outputs": [],
   "source": [
    "allD_timepoint_list = T_donors[max(T_donors)]\n",
    "donor_list = pi_hat_donors.keys()\n",
    "N = np.zeros((k,16))\n",
    "\n",
    "for d in donor_list:\n",
    "    for t in range(T_donors[d]):\n",
    "        N[:,t] += pi_hat_donors[d][:,t]\n",
    "\n",
    "N[:,:12] = N[:,:12]  / len(T_donors)\n",
    "\n",
    "N[:,12:] = N[:,12:]  / (len(T_donors)-1)"
   ]
  },
  {
   "cell_type": "code",
   "execution_count": 9,
   "metadata": {},
   "outputs": [
    {
     "data": {
      "text/html": [
       "<div>\n",
       "<style scoped>\n",
       "    .dataframe tbody tr th:only-of-type {\n",
       "        vertical-align: middle;\n",
       "    }\n",
       "\n",
       "    .dataframe tbody tr th {\n",
       "        vertical-align: top;\n",
       "    }\n",
       "\n",
       "    .dataframe thead th {\n",
       "        text-align: right;\n",
       "    }\n",
       "</style>\n",
       "<table border=\"1\" class=\"dataframe\">\n",
       "  <thead>\n",
       "    <tr style=\"text-align: right;\">\n",
       "      <th></th>\n",
       "      <th>0</th>\n",
       "      <th>1</th>\n",
       "      <th>2</th>\n",
       "      <th>3</th>\n",
       "      <th>4</th>\n",
       "      <th>5</th>\n",
       "      <th>6</th>\n",
       "    </tr>\n",
       "  </thead>\n",
       "  <tbody>\n",
       "    <tr>\n",
       "      <th>0</th>\n",
       "      <td>0.995584</td>\n",
       "      <td>9.250609e-11</td>\n",
       "      <td>0.004385</td>\n",
       "      <td>0.000030</td>\n",
       "      <td>7.350645e-08</td>\n",
       "      <td>9.241558e-11</td>\n",
       "      <td>1.990831e-10</td>\n",
       "    </tr>\n",
       "    <tr>\n",
       "      <th>1</th>\n",
       "      <td>0.000000</td>\n",
       "      <td>9.214659e-01</td>\n",
       "      <td>0.077984</td>\n",
       "      <td>0.000549</td>\n",
       "      <td>1.331753e-06</td>\n",
       "      <td>1.500650e-09</td>\n",
       "      <td>2.786685e-09</td>\n",
       "    </tr>\n",
       "    <tr>\n",
       "      <th>2</th>\n",
       "      <td>0.000000</td>\n",
       "      <td>0.000000e+00</td>\n",
       "      <td>0.986213</td>\n",
       "      <td>0.013737</td>\n",
       "      <td>4.968207e-05</td>\n",
       "      <td>4.429234e-08</td>\n",
       "      <td>1.077549e-07</td>\n",
       "    </tr>\n",
       "    <tr>\n",
       "      <th>3</th>\n",
       "      <td>0.000000</td>\n",
       "      <td>0.000000e+00</td>\n",
       "      <td>0.000000</td>\n",
       "      <td>0.992796</td>\n",
       "      <td>7.170947e-03</td>\n",
       "      <td>9.051748e-06</td>\n",
       "      <td>2.375606e-05</td>\n",
       "    </tr>\n",
       "    <tr>\n",
       "      <th>4</th>\n",
       "      <td>0.000000</td>\n",
       "      <td>0.000000e+00</td>\n",
       "      <td>0.000000</td>\n",
       "      <td>0.000000</td>\n",
       "      <td>9.909163e-01</td>\n",
       "      <td>2.248523e-03</td>\n",
       "      <td>6.835171e-03</td>\n",
       "    </tr>\n",
       "    <tr>\n",
       "      <th>5</th>\n",
       "      <td>0.000000</td>\n",
       "      <td>0.000000e+00</td>\n",
       "      <td>0.000000</td>\n",
       "      <td>0.000000</td>\n",
       "      <td>0.000000e+00</td>\n",
       "      <td>5.007971e-01</td>\n",
       "      <td>4.992029e-01</td>\n",
       "    </tr>\n",
       "    <tr>\n",
       "      <th>6</th>\n",
       "      <td>0.000000</td>\n",
       "      <td>0.000000e+00</td>\n",
       "      <td>0.000000</td>\n",
       "      <td>0.000000</td>\n",
       "      <td>0.000000e+00</td>\n",
       "      <td>0.000000e+00</td>\n",
       "      <td>1.000000e+00</td>\n",
       "    </tr>\n",
       "  </tbody>\n",
       "</table>\n",
       "</div>"
      ],
      "text/plain": [
       "          0             1         2         3             4             5  \\\n",
       "0  0.995584  9.250609e-11  0.004385  0.000030  7.350645e-08  9.241558e-11   \n",
       "1  0.000000  9.214659e-01  0.077984  0.000549  1.331753e-06  1.500650e-09   \n",
       "2  0.000000  0.000000e+00  0.986213  0.013737  4.968207e-05  4.429234e-08   \n",
       "3  0.000000  0.000000e+00  0.000000  0.992796  7.170947e-03  9.051748e-06   \n",
       "4  0.000000  0.000000e+00  0.000000  0.000000  9.909163e-01  2.248523e-03   \n",
       "5  0.000000  0.000000e+00  0.000000  0.000000  0.000000e+00  5.007971e-01   \n",
       "6  0.000000  0.000000e+00  0.000000  0.000000  0.000000e+00  0.000000e+00   \n",
       "\n",
       "              6  \n",
       "0  1.990831e-10  \n",
       "1  2.786685e-09  \n",
       "2  1.077549e-07  \n",
       "3  2.375606e-05  \n",
       "4  6.835171e-03  \n",
       "5  4.992029e-01  \n",
       "6  1.000000e+00  "
      ]
     },
     "execution_count": 9,
     "metadata": {},
     "output_type": "execute_result"
    }
   ],
   "source": [
    "pd.DataFrame(transMat(theta_to_Q(theta_allP,k,Q_template),1))"
   ]
  },
  {
   "cell_type": "code",
   "execution_count": 10,
   "metadata": {
    "metadata": {}
   },
   "outputs": [
    {
     "data": {
      "image/png": "[encoded data removed]",
      "text/plain": [
       "<Figure size 640x480 with 1 Axes>"
      ]
     },
     "metadata": {},
     "output_type": "display_data"
    },
    {
     "name": "stdout",
     "output_type": "stream",
     "text": [
      "Average abs. residual:  0.028761619338462146\n"
     ]
    },
    {
     "data": {
      "image/png": "[encoded data removed]",
      "text/plain": [
       "<Figure size 640x480 with 1 Axes>"
      ]
     },
     "metadata": {},
     "output_type": "display_data"
    }
   ],
   "source": [
    "u = u_donors['CVx10']\n",
    "T = T_donors['CVx10']\n",
    "\n",
    "# residuals\n",
    "new = theta_allP\n",
    "S1_Q = theta_to_Q(new, k, Q_template)\n",
    "\n",
    "epsi = np.zeros((T-1,k))\n",
    "pred = np.zeros((k,T))\n",
    "\n",
    "for i in range(1,T):\n",
    "    S1_P = transMat(S1_Q, u[i-1])\n",
    "    pred[:,(i-1)] = np.matmul(S1_P.transpose(),N[:,(i-1)]) \n",
    "    epsi[(i-1),:] = N[:,i] - pred[:,(i-1)]\n",
    "    plt.scatter(pred[:,(i-1)], epsi[(i-1),:])\n",
    "\n",
    "plt.axhline(y=0, linestyle = '--', color = 'grey')\n",
    "plt.ylim(-.5,.5)\n",
    "plt.title(\"Residuals vs Fitted\")\n",
    "plt.show() \n",
    "        \n",
    "print(\"Average abs. residual: \", np.mean(abs(epsi)))\n",
    "\n",
    "plt.boxplot(epsi,\n",
    "            notch=True,\n",
    "            medianprops=dict(color=\"mediumpurple\", linewidth=2))\n",
    "plt.xlabel(\"State\")\n",
    "plt.ylabel(\"Residuals\")\n",
    "plt.show()"
   ]
  },
  {
   "cell_type": "code",
   "execution_count": 11,
   "metadata": {},
   "outputs": [],
   "source": [
    "# transform residual vector\n",
    "Y = np.array([])\n",
    "X = np.empty(0)\n",
    "\n",
    "for t in range(1,T-1):\n",
    "    Y = np.append(Y,epsi[t,:], axis=0)\n",
    "\n",
    "    features = epsi[t-1,:]\n",
    "    X = np.append(X,features, axis = 0)\n",
    "\n",
    "df=pd.DataFrame(X, columns=['Residual_tm1'])\n",
    "df = pd.get_dummies(data=df, drop_first=True)\n",
    "X = df"
   ]
  },
  {
   "cell_type": "code",
   "execution_count": 12,
   "metadata": {},
   "outputs": [
    {
     "name": "stdout",
     "output_type": "stream",
     "text": [
      "                            OLS Regression Results                            \n",
      "==============================================================================\n",
      "Dep. Variable:                      y   R-squared:                       0.048\n",
      "Model:                            OLS   Adj. R-squared:                  0.038\n",
      "Method:                 Least Squares   F-statistic:                     4.827\n",
      "Date:                Tue, 25 Mar 2025   Prob (F-statistic):             0.0304\n",
      "Time:                        12:50:15   Log-Likelihood:                 171.32\n",
      "No. Observations:                  98   AIC:                            -338.6\n",
      "Df Residuals:                      96   BIC:                            -333.5\n",
      "Df Model:                           1                                         \n",
      "Covariance Type:            nonrobust                                         \n",
      "================================================================================\n",
      "                   coef    std err          t      P>|t|      [0.025      0.975]\n",
      "--------------------------------------------------------------------------------\n",
      "const         1.998e-05      0.004      0.005      0.996      -0.009       0.009\n",
      "Residual_tm1     0.2355      0.107      2.197      0.030       0.023       0.448\n",
      "==============================================================================\n",
      "Omnibus:                        8.087   Durbin-Watson:                   1.756\n",
      "Prob(Omnibus):                  0.018   Jarque-Bera (JB):               15.271\n",
      "Skew:                          -0.168   Prob(JB):                     0.000483\n",
      "Kurtosis:                       4.904   Cond. No.                         24.9\n",
      "==============================================================================\n",
      "\n",
      "Notes:\n",
      "[1] Standard Errors assume that the covariance matrix of the errors is correctly specified.\n"
     ]
    }
   ],
   "source": [
    "X = sm.add_constant(X)\n",
    "X = X.astype('float')\n",
    "ls=sm.OLS(Y,X).fit()\n",
    "print(ls.summary())"
   ]
  },
  {
   "cell_type": "code",
   "execution_count": 13,
   "metadata": {},
   "outputs": [],
   "source": [
    "# number of bootstrap samples\n",
    "B = 1500\n",
    "startIteration = 676"
   ]
  },
  {
   "cell_type": "code",
   "execution_count": 14,
   "metadata": {},
   "outputs": [],
   "source": [
    "mcArgs = {'mciter': mc_iter, 'n_cores': numCores}\n",
    "optimiserArgs = {'costFunc': calc_cost_donors, 'args': (pi_hat_donors, T_donors, k, u_donors, Q_template),'bounds': reg_bounds, 'constraints': reg_con, 'sampRange_ub': theta_initial_ub} \n",
    "options = {'xterm': xterm, 'max_iter': max_iter}"
   ]
  },
  {
   "cell_type": "code",
   "execution_count": 15,
   "metadata": {},
   "outputs": [],
   "source": [
    " # load old check point into new checkpoint\n",
    "theta_boot = np.zeros((B,n_param))\n",
    "checkpoint_filename = \"csrResults/CSR_BScheckpoint_theta_boot.pkl\"\n",
    "with open(checkpoint_filename, 'rb') as f:\n",
    "    theta_boot = pickle.load(f)\n",
    "    \n",
    "with open(checkpoint_filename, 'wb') as f:\n",
    "    pickle.dump(theta_boot,f)"
   ]
  },
  {
   "cell_type": "code",
   "execution_count": 16,
   "metadata": {},
   "outputs": [],
   "source": [
    "# create new checkpoint array\n",
    "#theta_boot = np.zeros((B,n_param))\n",
    "#checkpoint_filename = \"csrResults/CSR_BScheckpoint_theta_boot.pkl\"\n",
    "#with open(checkpoint_filename, 'wb') as f:\n",
    "#    pickle.dump(theta_boot,f)"
   ]
  },
  {
   "cell_type": "code",
   "execution_count": null,
   "metadata": {},
   "outputs": [
    {
     "name": "stderr",
     "output_type": "stream",
     "text": [
      "  0% (0 of 824) |                        | Elapsed Time: 0:00:00 ETA:  --:--:--\n"
     ]
    },
    {
     "name": "stderr",
     "output_type": "stream",
     "text": [
      "  0% (1 of 824) |                | Elapsed Time: 2:43:12 ETA:  93 days, 6:43:15\n",
      "  0% (2 of 824) |              | Elapsed Time: 6:49:27 ETA:  140 days, 13:31:48\n",
      "  0% (3 of 824) |               | Elapsed Time: 7:27:07 ETA:  21 days, 11:30:13\n",
      "  0% (4 of 824) |                | Elapsed Time: 8:32:10 ETA:  37 days, 1:03:01\n",
      "  0% (5 of 824) |                | Elapsed Time: 9:35:32 ETA:  36 days, 0:47:47\n",
      "  0% (6 of 824) |              | Elapsed Time: 10:50:22 ETA:  42 days, 12:12:33\n",
      "  0% (7 of 824) |               | Elapsed Time: 12:43:23 ETA:  64 days, 3:04:02\n",
      "  0% (8 of 824) |               | Elapsed Time: 13:26:03 ETA:  24 days, 4:08:11\n",
      "  1% (9 of 824) |              | Elapsed Time: 14:21:54 ETA:  31 days, 14:48:14\n",
      "  1% (10 of 824) |              | Elapsed Time: 15:52:29 ETA:  51 days, 4:51:51\n",
      "  1% (11 of 824) |             | Elapsed Time: 17:34:37 ETA:  57 days, 15:51:38\n",
      "  1% (12 of 824) |            | Elapsed Time: 20:45:33 ETA:  107 days, 16:02:29\n",
      "  1% (13 of 824) |              | Elapsed Time: 21:42:37 ETA:  32 days, 3:16:40\n",
      "  1% (14 of 824) |              | Elapsed Time: 22:32:43 ETA:  28 days, 4:13:23\n",
      "  1% (15 of 824) |              | Elapsed Time: 23:24:27 ETA:  29 days, 1:36:30\n",
      "  1% (16 of 824) |        | Elapsed Time: 1 day, 1:09:46 ETA:  59 days, 2:17:56\n",
      "  2% (17 of 824) |        | Elapsed Time: 1 day, 1:34:52 ETA:  14 days, 1:29:15\n",
      "  2% (18 of 824) |       | Elapsed Time: 1 day, 2:38:26 ETA:  35 days, 14:00:55\n",
      "  2% (19 of 824) |       | Elapsed Time: 1 day, 4:42:50 ETA:  69 days, 12:59:28\n",
      "  2% (20 of 824) |       | Elapsed Time: 1 day, 5:48:21 ETA:  36 days, 13:59:42\n",
      "  2% (21 of 824) |        | Elapsed Time: 1 day, 6:51:35 ETA:  35 days, 6:18:27\n",
      "  2% (22 of 824) |        | Elapsed Time: 1 day, 8:18:00 ETA:  48 days, 3:01:26\n",
      "  2% (23 of 824) |        | Elapsed Time: 1 day, 9:04:57 ETA:  26 days, 2:49:35\n",
      "  2% (24 of 824) |      | Elapsed Time: 1 day, 10:36:36 ETA:  50 days, 21:59:08\n",
      "  3% (25 of 824) |      | Elapsed Time: 1 day, 11:18:51 ETA:  23 days, 10:41:07\n",
      "  3% (26 of 824) |       | Elapsed Time: 1 day, 11:42:27 ETA:  13 days, 1:50:20\n",
      "  3% (27 of 824) |      | Elapsed Time: 1 day, 12:27:08 ETA:  24 days, 17:34:47\n",
      "  3% (28 of 824) |      | Elapsed Time: 1 day, 14:38:10 ETA:  72 days, 10:25:19\n",
      "  3% (29 of 824) |      | Elapsed Time: 1 day, 16:48:02 ETA:  71 days, 16:43:38\n",
      "  3% (30 of 824) |       | Elapsed Time: 1 day, 17:32:05 ETA:  24 days, 6:51:34\n",
      "  3% (31 of 824) |      | Elapsed Time: 1 day, 20:11:26 ETA:  87 days, 18:06:29\n",
      "  3% (32 of 824) |      | Elapsed Time: 1 day, 23:00:24 ETA:  92 days, 22:23:13\n"
     ]
    }
   ],
   "source": [
    "residResamp = bootstrap_resResamp_perDonor(point_estimate=theta_allP, \n",
    "                             n_bootstrapSamples=B, \n",
    "                             n_param=n_param, \n",
    "                             theta_generator=make_theta0, \n",
    "                             mcArgs=mcArgs, \n",
    "                             optimiserArgs=optimiserArgs, \n",
    "                             options=options, \n",
    "                             checkpoint_filename=checkpoint_filename,\n",
    "                             startIteration=startIteration)"
   ]
  },
  {
   "cell_type": "code",
   "execution_count": null,
   "metadata": {},
   "outputs": [],
   "source": [
    "filename = \"manuscript_results/cVax_bootie_residResamp.pkl\"\n",
    "with open(filename, 'wb') as f:\n",
    "    pickle.dump(residResamp, f)"
   ]
  }
 ],
 "metadata": {
  "kernelspec": {
   "display_name": "base",
   "language": "python",
   "name": "python3"
  },
  "language_info": {
   "codemirror_mode": {
    "name": "ipython",
    "version": 3
   },
   "file_extension": ".py",
   "mimetype": "text/x-python",
   "name": "python",
   "nbconvert_exporter": "python",
   "pygments_lexer": "ipython3",
   "version": "3.9.17"
  }
 },
 "nbformat": 4,
 "nbformat_minor": 2
}
